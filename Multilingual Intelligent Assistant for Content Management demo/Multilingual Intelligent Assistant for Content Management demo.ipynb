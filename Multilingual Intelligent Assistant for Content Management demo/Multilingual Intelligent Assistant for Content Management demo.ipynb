{
 "cells": [
  {
   "cell_type": "code",
   "execution_count": 1,
   "id": "b06e2b9a",
   "metadata": {},
   "outputs": [
    {
     "name": "stdout",
     "output_type": "stream",
     "text": [
      "WARNING:tensorflow:From c:\\Users\\mm174\\AppData\\Local\\Programs\\Python\\Python311\\Lib\\site-packages\\tf_keras\\src\\losses.py:2976: The name tf.losses.sparse_softmax_cross_entropy is deprecated. Please use tf.compat.v1.losses.sparse_softmax_cross_entropy instead.\n",
      "\n"
     ]
    },
    {
     "name": "stderr",
     "output_type": "stream",
     "text": [
      "Device set to use cpu\n",
      "Truncation was not explicitly activated but `max_length` is provided a specific value, please use `truncation=True` to explicitly truncate examples to max length. Defaulting to 'longest_first' truncation strategy. If you encode pairs of sequences (GLUE-style) with the tokenizer you can select this strategy more precisely by providing a specific strategy to `truncation`.\n",
      "Setting `pad_token_id` to `eos_token_id`:50256 for open-end generation.\n",
      "Both `max_new_tokens` (=256) and `max_length`(=100) seem to have been set. `max_new_tokens` will take precedence. Please refer to the documentation for more information. (https://huggingface.co/docs/transformers/main/en/main_classes/text_generation)\n"
     ]
    }
   ],
   "source": [
    "from transformers import pipeline # type: ignore\n",
    "generator = pipeline('text-generation', model='gpt2')\n",
    "gen_text = generator(\"Hello, I'm a Football Fan,\", max_length=100, num_return_sequences=1)\n",
    "\n"
   ]
  },
  {
   "cell_type": "code",
   "execution_count": 2,
   "id": "749ca64f",
   "metadata": {},
   "outputs": [
    {
     "name": "stdout",
     "output_type": "stream",
     "text": [
      "Hello, I'm a Football Fan, I love football and the fans, and the game, so I was really impressed by the game. The fact that I'm a guy who plays football, and the way that I play, I really enjoyed watching. I didn't know it was going to be a game like that.\n",
      "\n",
      "How does your relationship with the team compare to the way you're surrounded by those who have just left the team?\n",
      "\n",
      "I've actually never interacted with anyone that I know, and I've never met them that I don't know. I've never met anyone that I don't know. I was in awe of what they were doing. I was excited to see what they were doing, so I'm excited to see what they're doing. I'm happy.\n",
      "\n",
      "You've played 10 of the 13 games that you have played in. What's your favorite part of this season?\n",
      "\n",
      "I've played more than 10 of those games. I've played a lot of games in the past, and there are so many different things I can do.\n",
      "\n",
      "What were some of the things that you've learned from the team that you're excited about going into the season?\n",
      "\n",
      "I'll tell you, I've learned a lot from the team. I've learned\n"
     ]
    }
   ],
   "source": [
    "generated_text = gen_text[0]['generated_text']\n",
    "print(generated_text)\n"
   ]
  },
  {
   "cell_type": "code",
   "execution_count": 3,
   "id": "110f2cde",
   "metadata": {},
   "outputs": [
    {
     "name": "stderr",
     "output_type": "stream",
     "text": [
      "Device set to use cpu\n"
     ]
    },
    {
     "name": "stdout",
     "output_type": "stream",
     "text": [
      "I've never interacted with anyone that I know, and I've never met them that I don't know. I was in awe of what they were doing, so I'm excited to see what they're doing. I've learned a lot from the team.\n"
     ]
    }
   ],
   "source": [
    "summarizer = pipeline(\"summarization\", model=\"facebook/bart-large-cnn\")\n",
    "summarized_text = summarizer(generated_text, max_length=130, min_length=30, do_sample=False)\n",
    "print(summarized_text[0]['summary_text'])\n"
   ]
  },
  {
   "cell_type": "code",
   "execution_count": 4,
   "id": "e5b9cba4",
   "metadata": {},
   "outputs": [
    {
     "name": "stdout",
     "output_type": "stream",
     "text": [
      "I've never interacted with anyone that I know, and I've never met them that I don't know. I was in awe of what they were doing, so I'm excited to see what they're doing. I've learned a lot from the team.\n"
     ]
    }
   ],
   "source": [
    "summarized_text = summarized_text[0]['summary_text']\n",
    "print(summarized_text)"
   ]
  },
  {
   "cell_type": "code",
   "execution_count": 5,
   "id": "ee819286",
   "metadata": {},
   "outputs": [
    {
     "name": "stderr",
     "output_type": "stream",
     "text": [
      "c:\\Users\\mm174\\AppData\\Local\\Programs\\Python\\Python311\\Lib\\site-packages\\transformers\\models\\marian\\tokenization_marian.py:175: UserWarning: Recommended: pip install sacremoses.\n",
      "  warnings.warn(\"Recommended: pip install sacremoses.\")\n",
      "Device set to use cpu\n",
      "Your input_length: 61 is bigger than 0.9 * max_length: 40. You might consider increasing your max_length manually, e.g. translator('...', max_length=400)\n"
     ]
    },
    {
     "name": "stdout",
     "output_type": "stream",
     "text": [
      "Je n'ai jamais interagi avec quelqu'un que je connais, et je ne les ai jamais rencontrés que je ne sais pas. J'étais dans l'admiration de ce qu\n"
     ]
    }
   ],
   "source": [
    "translator = pipeline(\"translation\", model=\"Helsinki-NLP/opus-mt-en-fr\")\n",
    "translated_text =  translator(summarized_text, max_length=40)[0]['translation_text']\n",
    "print(translated_text)\n"
   ]
  },
  {
   "cell_type": "code",
   "execution_count": null,
   "id": "8e9d6681",
   "metadata": {},
   "outputs": [],
   "source": [
    "from haystack import Document\n",
    "from haystack.components.readers import ExtractiveReader\n",
    "\n",
    "\n",
    "question = \"What is the main topic of the text?\"\n",
    "\n",
    "docs = [\n",
    "    Document(content=generated_text),\n",
    "]\n",
    "\n",
    "reader = ExtractiveReader(model=\"deepset/roberta-base-squad2\")\n",
    "reader.warm_up()\n",
    "result = reader.run(query=question, documents=docs)"
   ]
  },
  {
   "cell_type": "code",
   "execution_count": 25,
   "id": "49d58a17",
   "metadata": {},
   "outputs": [
    {
     "name": "stdout",
     "output_type": "stream",
     "text": [
      "Answer: Football Fan, I love football\n"
     ]
    }
   ],
   "source": [
    "print(f\"Answer: {result['answers'][1].data}\")"
   ]
  },
  {
   "cell_type": "code",
   "execution_count": null,
   "id": "9c63ed51",
   "metadata": {},
   "outputs": [],
   "source": []
  }
 ],
 "metadata": {
  "kernelspec": {
   "display_name": "Python 3",
   "language": "python",
   "name": "python3"
  },
  "language_info": {
   "codemirror_mode": {
    "name": "ipython",
    "version": 3
   },
   "file_extension": ".py",
   "mimetype": "text/x-python",
   "name": "python",
   "nbconvert_exporter": "python",
   "pygments_lexer": "ipython3",
   "version": "3.11.9"
  }
 },
 "nbformat": 4,
 "nbformat_minor": 5
}
